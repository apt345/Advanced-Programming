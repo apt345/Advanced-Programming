{
 "cells": [
  {
   "cell_type": "markdown",
   "metadata": {},
   "source": [
    "# Predicting wind energy production with Machine Learning\n",
    "\n",
    "Arturo Prieto Tirado and Pere Fuster Escrivà"
   ]
  },
  {
   "cell_type": "markdown",
   "metadata": {},
   "source": [
    "For the teacher: \n",
    "\n",
    "- This work follows the structure of the task. \n",
    "\n",
    "- Any coment with regards to the results is displayed at the end, section Conclusions and Insight: Performance evaluation and Attribute selection. \n",
    "\n",
    "- In total, there are 9 models built (2 knn + 2 trees + 2 svm + 3knn) the 2n knn model in the 2nd part is very similar to the first Knn in the 3rd task. \n",
    "\n",
    "\n",
    "Table of contents: \n",
    "\n",
    "Task 1: \n",
    "\n",
    "- KNN + KNN with hyperparameter tuning \n",
    "- Reg Trees + RT with hyperparameter tuning \n",
    "- SVM + SVM with hyperparameter tuning \n",
    "\n",
    "Task 2: \n",
    "\n",
    "- Feature selection with KNN \n",
    "\n",
    "Conclusions \n",
    "\n",
    "\n",
    "References: \n",
    "- Slides + Recordings \n",
    "- https://scikit-learn.org/stable/\n",
    "- Introduction to ML in Python (Book) \n",
    "- Stackoverflow\n"
   ]
  },
  {
   "cell_type": "code",
   "execution_count": 1,
   "metadata": {},
   "outputs": [],
   "source": [
    "import numpy as np\n",
    "import math\n",
    "import pandas as pd\n",
    "from sklearn.model_selection import train_test_split # \n",
    "from sklearn.impute import SimpleImputer\n",
    "from sklearn.pipeline import Pipeline, FeatureUnion\n",
    "import sklearn\n",
    "from sklearn.neighbors import KNeighborsRegressor\n",
    "from sklearn.feature_selection import SelectKBest\n",
    "from sklearn.preprocessing import MinMaxScaler\n",
    "from sklearn.preprocessing import StandardScaler\n",
    "from sklearn import metrics\n",
    "from sklearn.model_selection import GridSearchCV\n",
    "from sklearn.model_selection import PredefinedSplit\n",
    "from sklearn.model_selection import RandomizedSearchCV\n",
    "from sklearn.svm import SVR\n",
    "from sklearn import tree\n",
    "\n",
    "# Please change the directory to where the data is stored\n",
    "import os\n",
    "os.getcwd()\n",
    "os.chdir(\"C:\\\\Users\\\\arpri\\\\OneDrive\\\\Escritorio\\\\libros\\\\master\\\\Segundo Semicuatrimestre\\\\ProgramacionAvanzada\\\\Proyecto 3\")"
   ]
  },
  {
   "cell_type": "code",
   "execution_count": 4,
   "metadata": {},
   "outputs": [
    {
     "ename": "TypeError",
     "evalue": "'tuple' object does not support item assignment",
     "output_type": "error",
     "traceback": [
      "\u001b[1;31m---------------------------------------------------------------------------\u001b[0m",
      "\u001b[1;31mTypeError\u001b[0m                                 Traceback (most recent call last)",
      "\u001b[1;32m<ipython-input-4-f345b1feccaf>\u001b[0m in \u001b[0;36m<module>\u001b[1;34m\u001b[0m\n\u001b[0;32m      3\u001b[0m \u001b[0mb\u001b[0m \u001b[1;33m=\u001b[0m \u001b[0ma\u001b[0m\u001b[1;33m\u001b[0m\u001b[1;33m\u001b[0m\u001b[0m\n\u001b[0;32m      4\u001b[0m \u001b[1;33m\u001b[0m\u001b[0m\n\u001b[1;32m----> 5\u001b[1;33m \u001b[0mb\u001b[0m\u001b[1;33m[\u001b[0m\u001b[1;36m0\u001b[0m\u001b[1;33m]\u001b[0m\u001b[1;33m=\u001b[0m\u001b[1;36m10\u001b[0m\u001b[1;33m\u001b[0m\u001b[1;33m\u001b[0m\u001b[0m\n\u001b[0m\u001b[0;32m      6\u001b[0m \u001b[1;33m\u001b[0m\u001b[0m\n\u001b[0;32m      7\u001b[0m \u001b[0mprint\u001b[0m\u001b[1;33m(\u001b[0m\u001b[0ma\u001b[0m\u001b[1;33m)\u001b[0m\u001b[1;33m\u001b[0m\u001b[1;33m\u001b[0m\u001b[0m\n",
      "\u001b[1;31mTypeError\u001b[0m: 'tuple' object does not support item assignment"
     ]
    }
   ],
   "source": [
    "a = (1,2,3)\n",
    "\n",
    "b = a\n",
    "\n",
    "b[0]=10\n",
    "\n",
    "print(a)"
   ]
  },
  {
   "cell_type": "markdown",
   "metadata": {},
   "source": [
    "# Part 1\n",
    "\n",
    "The very first step is to load the dataset, delete month, steps, day and hour and insert  5% of total observations as NA in 10% of the columns"
   ]
  },
  {
   "cell_type": "code",
   "execution_count": 217,
   "metadata": {},
   "outputs": [
    {
     "data": {
      "text/plain": [
       "energy       0.000000\n",
       "year         0.000000\n",
       "p54.162.1    0.000000\n",
       "p54.162.2    0.050025\n",
       "p54.162.3    0.000000\n",
       "               ...   \n",
       "v100.21      0.000000\n",
       "v100.22      0.000000\n",
       "v100.23      0.000000\n",
       "v100.24      0.050025\n",
       "v100.25      0.000000\n",
       "Length: 552, dtype: float64"
      ]
     },
     "execution_count": 217,
     "metadata": {},
     "output_type": "execute_result"
    }
   ],
   "source": [
    "\n",
    "my_NIA = 100441384 # NIA Pere Fuster \n",
    "np.random.seed(my_NIA)\n",
    "\n",
    "data = pd.read_pickle('wind_pickle.pickle')\n",
    "data = data.drop(['month','steps','day','hour'], axis=1)\n",
    "\n",
    "grey = data.drop(['year','energy'], axis=1)\n",
    "grey = grey.sample(frac = 0.10, axis = 'columns')\n",
    "\n",
    "data.shape\n",
    "grey.shape\n",
    "\n",
    "for col in grey.columns:\n",
    "    grey.loc[grey.sample(frac = 0.05).index, col] = np.nan\n",
    "\n",
    "grey.isna().sum()/grey.shape[0] # checking\n",
    "\n",
    "data[grey.columns] = grey\n",
    "\n",
    "data.isna().sum()/data.shape[0] # double-checking\n"
   ]
  },
  {
   "cell_type": "markdown",
   "metadata": {},
   "source": [
    "Then, create the training, validation and testing datasets in chronological order. We create also a dataframe \"train\" containing both training and validation that will be used for simple models with no hyperparameter tuning."
   ]
  },
  {
   "cell_type": "code",
   "execution_count": 218,
   "metadata": {},
   "outputs": [],
   "source": [
    "data.year.min() # checking years ranges \n",
    "data.year.max()\n",
    "\n",
    "#Train partition: data belonging to 2005 and 2006.\n",
    "# Validation partition (inner): 2007 and 2008 data.\n",
    "# Test partition (outer): 2009 and 2010.\n",
    "train=data[(data['year'] < 2009)]\n",
    "train_train = data[(data['year'] < 2007)]\n",
    "train_validation = data[(data['year'] >= 2007) & (data['year'] < 2009)]\n",
    "holdout = data[(data['year'] >= 2009) & (data['year'] < 2010)]"
   ]
  },
  {
   "cell_type": "markdown",
   "metadata": {},
   "source": [
    "Finally, remove column year."
   ]
  },
  {
   "cell_type": "code",
   "execution_count": 219,
   "metadata": {},
   "outputs": [],
   "source": [
    "train = train.drop(['year'], axis = 1)\n",
    "train_train = train_train.drop(['year'], axis = 1)\n",
    "train_validation = train_validation.drop(['year'], axis = 1)\n",
    "holdout = holdout.drop(['year'], axis = 1)"
   ]
  },
  {
   "cell_type": "markdown",
   "metadata": {},
   "source": [
    "# Part 2: Model selection and Hyperparameter tuning"
   ]
  },
  {
   "cell_type": "markdown",
   "metadata": {},
   "source": [
    "The code belows includes all the steps related to data partition, which will be necessary to evaluate the models and to be able to improve their performance with parameter tuning. \n",
    "First, we remove the response, energy, from the training and testing set and store it as a response y."
   ]
  },
  {
   "cell_type": "code",
   "execution_count": 220,
   "metadata": {},
   "outputs": [],
   "source": [
    "X_train = train.drop(['energy'], axis=1)\n",
    "y_train = train.energy\n",
    "X_test = holdout.drop(['energy'], axis=1)\n",
    "y_test = holdout.energy"
   ]
  },
  {
   "cell_type": "markdown",
   "metadata": {},
   "source": [
    "Now we convert the data to numpy matrices, although scitkit learn can deal with our pandas dataframes since all the data are numerical variables (no strings inside)."
   ]
  },
  {
   "cell_type": "code",
   "execution_count": 221,
   "metadata": {},
   "outputs": [],
   "source": [
    "train=train.to_numpy()\n",
    "train_train = train_train.to_numpy()\n",
    "train_validation=train_validation.to_numpy()\n",
    "holdout=holdout.to_numpy()"
   ]
  },
  {
   "cell_type": "markdown",
   "metadata": {},
   "source": [
    "Now, we define a train validation grid search to distinguish between proper training and validation for hyper-parameter tuned models."
   ]
  },
  {
   "cell_type": "code",
   "execution_count": 222,
   "metadata": {},
   "outputs": [],
   "source": [
    "# Defining a fixed train/validation grid-search\n",
    "# -1 means training, 0 means validation\n",
    "validation_indices = np.zeros(X_train.shape[0])\n",
    "a = np.linspace(0, (train_train.shape[0] - 1), train_train.shape[0])*0\n",
    "v_indices = np.linspace(0, (train_validation.shape[0] - 1), train_validation.shape[0])+1\n",
    "b = (v_indices/v_indices)*(-1)\n",
    "\n",
    "validation_indices = np.concatenate((a, b), axis=0)\n",
    "tr_val_partition = PredefinedSplit(validation_indices)\n"
   ]
  },
  {
   "cell_type": "markdown",
   "metadata": {},
   "source": [
    "And create a dataframe to store the Mean Absolute Error of the different models for later comparison"
   ]
  },
  {
   "cell_type": "code",
   "execution_count": 223,
   "metadata": {},
   "outputs": [],
   "source": [
    "# To store the MAE of all the models\n",
    "MAE = pd.DataFrame({'model': range(1,10), 'MAE': range(11,20)})"
   ]
  },
  {
   "cell_type": "markdown",
   "metadata": {},
   "source": [
    "## KNN & SVM \n",
    "\n",
    "Since KNN and SVM need the same preprocessing, They belong to the same section \n",
    "\n",
    "Let's start with KNN with default hyperparameters. We will build a pipeline that applies standarisation, imputes the missing values and does feature selection with classificator, the KNN (All with the default parameters).\n"
   ]
  },
  {
   "cell_type": "markdown",
   "metadata": {},
   "source": [
    "### KNN"
   ]
  },
  {
   "cell_type": "code",
   "execution_count": 224,
   "metadata": {},
   "outputs": [],
   "source": [
    "# Standardisation needed for KNN\n",
    "MinMax = sklearn.preprocessing.MinMaxScaler()\n",
    "\n",
    "# Replace NAs \n",
    "imputer = sklearn.impute.SimpleImputer()\n",
    "\n",
    "# Feature selection \n",
    "selector = sklearn.feature_selection.SelectKBest()\n",
    "\n",
    "# Classificator \n",
    "knn = KNeighborsRegressor()\n",
    "\n",
    "# Building the pipeline \n",
    "reg = Pipeline([\n",
    "('minmax', MinMax), \n",
    "('impute', imputer),\n",
    "('select', selector),\n",
    "('knn_regression', knn)])\n"
   ]
  },
  {
   "cell_type": "markdown",
   "metadata": {},
   "source": [
    "Once we have the pipeline, we can use the fit() function on it with the training dataset and the response and afterwards make a prediction with the predict() function on the testing dataset and compare with the original results in the testing set with MAE."
   ]
  },
  {
   "cell_type": "code",
   "execution_count": 225,
   "metadata": {},
   "outputs": [
    {
     "name": "stdout",
     "output_type": "stream",
     "text": [
      "374.9177654723127\n"
     ]
    }
   ],
   "source": [
    "# Fitting the model\n",
    "reg.fit(X_train, y_train)\n",
    "\n",
    "# Making predictions for the trainning and testing sets \n",
    "y_test_pred = reg.predict(X_test)\n",
    "\n",
    "#saving the MAE for future comparisons\n",
    "MAE.iloc[0,1] = metrics.mean_absolute_error(y_test, y_test_pred)\n",
    "\n",
    "# Printing MAE of training and testing\n",
    "print(MAE.iloc[0,1])\n"
   ]
  },
  {
   "cell_type": "markdown",
   "metadata": {},
   "source": [
    "We can see that we get a Mean Absolute Error of when evaluated on the testing set, which doesn't say much on itself, but it is useful to make comparisons between models.\n",
    "\n",
    "Next step is using KNN with hyperparameter tuning. We introduce the pipeline in the same way as before"
   ]
  },
  {
   "cell_type": "code",
   "execution_count": 226,
   "metadata": {},
   "outputs": [],
   "source": [
    "### KNN and SVM PIPELINE \n",
    "\n",
    "# Standardisation \n",
    "MinMax = sklearn.preprocessing.MinMaxScaler() # SVMs assume that the data it works with is in a standard range\n",
    "\n",
    "# NAs Action \n",
    "imputer = sklearn.impute.SimpleImputer()\n",
    "\n",
    "# Feature selection \n",
    "selector = sklearn.feature_selection.SelectKBest() # Select the most important 3 \n",
    "\n",
    "# Classificator \n",
    "knn = KNeighborsRegressor()\n",
    "\n",
    "# Building the pipeline \n",
    "reg = Pipeline([\n",
    "('minmax', MinMax), \n",
    "('impute', imputer),\n",
    "('select', selector),\n",
    "('knn_regression', knn)])"
   ]
  },
  {
   "cell_type": "markdown",
   "metadata": {},
   "source": [
    "But now we add hyper-parameter search space so that it can impute the NA using the median or the mean; work with 1 up to 12 neighbors with uniform or weighted distance. This way, the algorithm will find the best choice for all of them."
   ]
  },
  {
   "cell_type": "code",
   "execution_count": 227,
   "metadata": {},
   "outputs": [],
   "source": [
    "# Defining hyper-parameter (search) space\n",
    "param_grid = {\n",
    "'select__k':  range(1,30),\n",
    "'impute__strategy': ['mean', 'median'],\n",
    "'knn_regression__n_neighbors': range(1,12),\n",
    "'knn_regression__weights': ['uniform', 'distance']\n",
    "} "
   ]
  },
  {
   "cell_type": "markdown",
   "metadata": {},
   "source": [
    "We also need to specify the search method for the cross validation grid that will be used in the hyperparameter tuning. In contrast to GridSearchCV, not all parameter values are tried out. Instead, a fixed number of parameter settings is sampled from the specified distributions. The number of parameter settings that are tried is given by n_iter (The default is set at 10, but we will change it to 4 for the sake of the exercise, since for this case we'd go for GridSearch without randomising).\n",
    "\n",
    "We use the negative mean absolute error and the validation partition. Also, n_jobs allows us to work in parallel to be faster. Since our computers have 8 cores, we will use 7."
   ]
  },
  {
   "cell_type": "code",
   "execution_count": 228,
   "metadata": {},
   "outputs": [],
   "source": [
    "# Defining Search Method, evaluation method and performance measure\n",
    "reg_grid = RandomizedSearchCV(reg, param_grid, scoring = 'neg_mean_absolute_error', n_iter = 4, \n",
    "                              cv = tr_val_partition, n_jobs = 7, verbose = 1, random_state = 0)"
   ]
  },
  {
   "cell_type": "markdown",
   "metadata": {},
   "source": [
    "We can finally fit our model using the training set."
   ]
  },
  {
   "cell_type": "code",
   "execution_count": 229,
   "metadata": {},
   "outputs": [
    {
     "name": "stdout",
     "output_type": "stream",
     "text": [
      "Fitting 1 folds for each of 4 candidates, totalling 4 fits\n"
     ]
    },
    {
     "name": "stderr",
     "output_type": "stream",
     "text": [
      "[Parallel(n_jobs=7)]: Using backend LokyBackend with 7 concurrent workers.\n",
      "[Parallel(n_jobs=7)]: Done   4 out of   4 | elapsed:    1.9s finished\n"
     ]
    },
    {
     "data": {
      "text/plain": [
       "RandomizedSearchCV(cv=PredefinedSplit(test_fold=array([ 0,  0, ..., -1, -1])),\n",
       "                   estimator=Pipeline(steps=[('minmax', MinMaxScaler()),\n",
       "                                             ('impute', SimpleImputer()),\n",
       "                                             ('select', SelectKBest()),\n",
       "                                             ('knn_regression',\n",
       "                                              KNeighborsRegressor())]),\n",
       "                   n_iter=4, n_jobs=7,\n",
       "                   param_distributions={'impute__strategy': ['mean', 'median'],\n",
       "                                        'knn_regression__n_neighbors': range(1, 12),\n",
       "                                        'knn_regression__weights': ['uniform',\n",
       "                                                                    'distance'],\n",
       "                                        'select__k': range(1, 30)},\n",
       "                   random_state=0, scoring='neg_mean_absolute_error',\n",
       "                   verbose=1)"
      ]
     },
     "execution_count": 229,
     "metadata": {},
     "output_type": "execute_result"
    }
   ],
   "source": [
    "# Fitting the model\n",
    "reg_grid.fit(X_train, y_train)"
   ]
  },
  {
   "cell_type": "markdown",
   "metadata": {},
   "source": [
    "And make predictions using predict() on the testing dataset, so that we can compare with the original testing values."
   ]
  },
  {
   "cell_type": "code",
   "execution_count": 230,
   "metadata": {},
   "outputs": [
    {
     "name": "stdout",
     "output_type": "stream",
     "text": [
      "{'select__k': 28, 'knn_regression__weights': 'distance', 'knn_regression__n_neighbors': 10, 'impute__strategy': 'median'}\n",
      "344.4816562010301\n",
      "341.2523064928945\n"
     ]
    }
   ],
   "source": [
    "# Making prediction predictions for the training and testing sets \n",
    "y_test_pred = reg_grid.predict(X_test) \n",
    "\n",
    "print(reg_grid.best_params_) # Best parameters identified with Randomised Search \n",
    "\n",
    "print(- reg_grid.best_score_) # Best MAE in the validation set  \n",
    "\n",
    "MAE.iloc[1,1] = metrics.mean_absolute_error(y_test, y_test_pred)\n",
    "print(MAE.iloc[1,1]) # Testing MAE"
   ]
  },
  {
   "cell_type": "markdown",
   "metadata": {},
   "source": [
    "The optimal hyperparameters are 28 features, distance weights, 10 neighbors and median imputation. The new MAE of the model in the testing dataset is 341, which has improved with respected to the non-tuned model."
   ]
  },
  {
   "cell_type": "markdown",
   "metadata": {},
   "source": [
    "# SVM\n",
    "\n",
    "The goal of an SVM is to create a flat boundary, called hyperplane, which leads to fairly homogeneous partitions of data on either side.\n",
    "\n",
    "Therefore these are the hyperameters of these applications: \n",
    "\n",
    "- C is the penalty parameter, it models the importance of missclasification\n",
    "- Kernel is the kernel function used to map the data to a higher dimension space\n",
    "- epsilon is the margin of tolerance where to penalty is given to errors\n",
    "\n",
    "Once the dimension have been increased to allow for a flat linear separation.\n",
    "\n",
    "First we do SVM with default hyperparamters. We define the pipeline that scales, imputes NA and does feature selection with default hyperparameters analogously as we did for KNN."
   ]
  },
  {
   "cell_type": "code",
   "execution_count": 231,
   "metadata": {},
   "outputs": [],
   "source": [
    "# Standardisation \n",
    "MinMax = sklearn.preprocessing.MinMaxScaler()\n",
    "\n",
    "# NAs Action \n",
    "imputer = sklearn.impute.SimpleImputer()\n",
    "\n",
    "# Feature selection \n",
    "selector = sklearn.feature_selection.SelectKBest() # Select the most important 3 \n",
    "\n",
    "# Classificator \n",
    "svm = SVR()\n",
    "\n",
    "# Building the pipeline \n",
    "reg = Pipeline([\n",
    "('minmax', MinMax), \n",
    "('impute', imputer),\n",
    "('select', selector),\n",
    "('supportVM', svm)])"
   ]
  },
  {
   "cell_type": "markdown",
   "metadata": {},
   "source": [
    "Now we proceed to fit the model using the training dataset"
   ]
  },
  {
   "cell_type": "code",
   "execution_count": 232,
   "metadata": {},
   "outputs": [
    {
     "data": {
      "text/plain": [
       "Pipeline(steps=[('minmax', MinMaxScaler()), ('impute', SimpleImputer()),\n",
       "                ('select', SelectKBest()), ('supportVM', SVR())])"
      ]
     },
     "execution_count": 232,
     "metadata": {},
     "output_type": "execute_result"
    }
   ],
   "source": [
    "# Fitting the model\n",
    "reg.fit(X_train, y_train)"
   ]
  },
  {
   "cell_type": "markdown",
   "metadata": {},
   "source": [
    "Finally, predict and check its negative MAE"
   ]
  },
  {
   "cell_type": "code",
   "execution_count": 233,
   "metadata": {},
   "outputs": [
    {
     "name": "stdout",
     "output_type": "stream",
     "text": [
      "410.538098715742\n"
     ]
    }
   ],
   "source": [
    "# Making prediction predictions for the trainning and testing sets \n",
    "y_test_pred = reg.predict(X_test)\n",
    "\n",
    "# Printing MAE\n",
    "MAE.iloc[2,1] = metrics.mean_absolute_error(y_test, y_test_pred)\n",
    "print(MAE.iloc[2,1])"
   ]
  },
  {
   "cell_type": "markdown",
   "metadata": {},
   "source": [
    "We get a MAE of 410, let's now use SVM with hyperparameter tuning and compare.\n",
    "The pipeline is done in the same way as before."
   ]
  },
  {
   "cell_type": "code",
   "execution_count": 234,
   "metadata": {},
   "outputs": [],
   "source": [
    "# Standardisation \n",
    "MinMax = sklearn.preprocessing.MinMaxScaler()\n",
    "\n",
    "# NAs Action \n",
    "imputer = sklearn.impute.SimpleImputer()\n",
    "\n",
    "# Feature selection \n",
    "selector = sklearn.feature_selection.SelectKBest() # Select the most important 3 \n",
    "\n",
    "# Classificator \n",
    "svm = SVR()\n",
    "\n",
    "# Building the pipeline \n",
    "reg = Pipeline([\n",
    "('minmax', MinMax), \n",
    "('impute', imputer),\n",
    "('select', selector),\n",
    "('supportVM', svm)])"
   ]
  },
  {
   "cell_type": "markdown",
   "metadata": {},
   "source": [
    "Now it's time to define the hyper-parameter space where to search. The hyperparameters are the way to replace NAs: mean or median; the penalty parameter; the type of kernel function: linear, polynomical, radial basis function (rfb) or a sigmoid and the epsilon."
   ]
  },
  {
   "cell_type": "code",
   "execution_count": 235,
   "metadata": {},
   "outputs": [],
   "source": [
    "param_grid = {\n",
    "'select__k':  range(1,30),\n",
    "'impute__strategy': ['mean', 'median'],\n",
    "'supportVM__C': list(np.linspace(0.1, 50, 500)),\n",
    "'supportVM__kernel': ['linear', 'poly', 'rbf', 'sigmoid'],\n",
    "'supportVM__epsilon': list(np.linspace(0.001, 1, 1000))\n",
    "} "
   ]
  },
  {
   "cell_type": "markdown",
   "metadata": {},
   "source": [
    "We also need to specify the search method for the cross validation grid that will be used in the hyperparameter tuning. We use randomized search for faster results with the negative mean absolute error and the validation partition in parallel as done for KNN."
   ]
  },
  {
   "cell_type": "code",
   "execution_count": 236,
   "metadata": {},
   "outputs": [],
   "source": [
    "# Defining Search Method, evaluation method and performance measure\n",
    "reg_grid = RandomizedSearchCV(reg, param_grid, scoring = 'neg_mean_absolute_error', cv = tr_val_partition, n_iter = 10, n_jobs = 6, verbose=1) "
   ]
  },
  {
   "cell_type": "markdown",
   "metadata": {},
   "source": [
    "Now we can proceed to fit the model"
   ]
  },
  {
   "cell_type": "code",
   "execution_count": 237,
   "metadata": {},
   "outputs": [
    {
     "name": "stdout",
     "output_type": "stream",
     "text": [
      "Fitting 1 folds for each of 10 candidates, totalling 10 fits\n"
     ]
    },
    {
     "name": "stderr",
     "output_type": "stream",
     "text": [
      "[Parallel(n_jobs=6)]: Using backend LokyBackend with 6 concurrent workers.\n",
      "[Parallel(n_jobs=6)]: Done  10 out of  10 | elapsed:    1.7s remaining:    0.0s\n",
      "[Parallel(n_jobs=6)]: Done  10 out of  10 | elapsed:    1.7s finished\n"
     ]
    }
   ],
   "source": [
    "reg_grid = reg_grid.fit(X_train, y_train)"
   ]
  },
  {
   "cell_type": "markdown",
   "metadata": {},
   "source": [
    "Finally, let's make predictions with the testing dataset and analyze the power of the model with the MAE"
   ]
  },
  {
   "cell_type": "code",
   "execution_count": 238,
   "metadata": {},
   "outputs": [
    {
     "name": "stdout",
     "output_type": "stream",
     "text": [
      "{'supportVM__kernel': 'rbf', 'supportVM__epsilon': 0.47900000000000004, 'supportVM__C': 28.099999999999998, 'select__k': 27, 'impute__strategy': 'mean'}\n",
      "341.43716663495667\n",
      "341.5112901824232\n"
     ]
    }
   ],
   "source": [
    "# The tuned method can be used for making predictions, just as any fit machine learning method\n",
    "y_test_pred = reg_grid.predict(X_test)\n",
    "\n",
    "MAE.iloc[3,1] = metrics.mean_absolute_error(y_test, y_test_pred)\n",
    "\n",
    "print(reg_grid.best_params_) # Best parameters identified with Randomised Search \n",
    "print(- reg_grid.best_score_) # Trainning MAE\n",
    "print(MAE.iloc[3,1]) # Testing MAE"
   ]
  },
  {
   "cell_type": "markdown",
   "metadata": {},
   "source": [
    "We get a MAE of 341, way better than the SVM with default hyperparameters. The optimal hyperparameters for SVM turned out to be a radial basis function, an epsilon of 0.47900000000000004, a penalty of 28.0999..., 27 neighbors and mean value imputation."
   ]
  },
  {
   "cell_type": "markdown",
   "metadata": {},
   "source": [
    "# Regression Trees\n",
    "\n",
    "The last model we will work with are regression trees. These models don't need scaling, so we define a simpler pipeline:"
   ]
  },
  {
   "cell_type": "code",
   "execution_count": 239,
   "metadata": {},
   "outputs": [],
   "source": [
    "# NA imputation\n",
    "imputer = sklearn.impute.SimpleImputer()\n",
    "\n",
    "# Feature selection \n",
    "selector = sklearn.feature_selection.SelectKBest() # Select the most important \n",
    "\n",
    "# Classificator \n",
    "arbol = tree.DecisionTreeRegressor()\n",
    "\n",
    "# Building the pipeline (Worth putting the imputer before the selector transformer)\n",
    "reg = Pipeline([\n",
    "('impute', imputer),\n",
    "('select', selector),\n",
    "('decisiontree', arbol)])\n"
   ]
  },
  {
   "cell_type": "markdown",
   "metadata": {},
   "source": [
    "Now we can fit the model using the training dataset and predict using the testing dataset"
   ]
  },
  {
   "cell_type": "code",
   "execution_count": 240,
   "metadata": {},
   "outputs": [
    {
     "name": "stdout",
     "output_type": "stream",
     "text": [
      "469.2032030401738\n"
     ]
    }
   ],
   "source": [
    "# Fitting the model\n",
    "reg.fit(X_train, y_train)\n",
    "\n",
    "# Making prediction predictions for the testing sets\n",
    "y_test_pred = reg.predict(X_test)\n",
    "\n",
    "MAE.iloc[4,1] = metrics.mean_absolute_error(y_test, y_test_pred)\n",
    "\n",
    "# Printing Testing MAE\n",
    "print(MAE.iloc[4,1])"
   ]
  },
  {
   "cell_type": "markdown",
   "metadata": {},
   "source": [
    "We get a MAE of 469. Now let's work with hyperparameter tuning. Define the same pipeline: "
   ]
  },
  {
   "cell_type": "code",
   "execution_count": 241,
   "metadata": {},
   "outputs": [],
   "source": [
    "# NA imputation\n",
    "imputer = sklearn.impute.SimpleImputer()\n",
    "\n",
    "# Feature selection \n",
    "selector = sklearn.feature_selection.SelectKBest() # Select the most important \n",
    "\n",
    "# Classificator \n",
    "trees = tree.DecisionTreeRegressor()\n",
    "\n",
    "# Building the pipeline \n",
    "reg = Pipeline([\n",
    "('impute', imputer),\n",
    "('select', selector),\n",
    "('decisiontree', trees)])"
   ]
  },
  {
   "cell_type": "markdown",
   "metadata": {},
   "source": [
    "And the hyperparamater grid to search. We can modify the criterion of the tree, its depth and the number of leaves, as well as the imputation method or the number of neighbours."
   ]
  },
  {
   "cell_type": "code",
   "execution_count": 242,
   "metadata": {},
   "outputs": [],
   "source": [
    "param_grid = {\n",
    "'impute__strategy': ['mean', 'median'],\n",
    "'select__k':  range(1,30),\n",
    "'decisiontree__criterion': [\"mse\", \"friedman_mse\", \"mae\", \"poisson\"], # Default = Gini.\n",
    "'decisiontree__max_depth': list(np.linspace(2, 10, 9)), # The maximum depth of the tree.\n",
    "'decisiontree__min_samples_split': list(np.linspace(2, 11, 10).astype(int)) # The minimum number of samples required to split an internal node\n",
    "} "
   ]
  },
  {
   "cell_type": "markdown",
   "metadata": {},
   "source": [
    "We also need to specify the search method for the cross validation grid that will be used in the hyperparameter tuning. We use randomized search for faster results with the negative mean absolute error and the validation partition in parallel as done before."
   ]
  },
  {
   "cell_type": "code",
   "execution_count": 243,
   "metadata": {},
   "outputs": [],
   "source": [
    "# Defining Search Method, evaluation method and performance measure\n",
    "reg_grid = RandomizedSearchCV(reg, param_grid, scoring = 'neg_mean_absolute_error', n_iter = 8, \n",
    "                              cv = tr_val_partition, n_jobs = 6, verbose = 1, random_state = 0)"
   ]
  },
  {
   "cell_type": "markdown",
   "metadata": {},
   "source": [
    "We can finally fit the model using the training set and compare resuls with the testing set."
   ]
  },
  {
   "cell_type": "code",
   "execution_count": 244,
   "metadata": {},
   "outputs": [
    {
     "name": "stdout",
     "output_type": "stream",
     "text": [
      "Fitting 1 folds for each of 8 candidates, totalling 8 fits\n"
     ]
    },
    {
     "name": "stderr",
     "output_type": "stream",
     "text": [
      "[Parallel(n_jobs=6)]: Using backend LokyBackend with 6 concurrent workers.\n",
      "[Parallel(n_jobs=6)]: Done   6 out of   8 | elapsed:    0.6s remaining:    0.1s\n",
      "[Parallel(n_jobs=6)]: Done   8 out of   8 | elapsed:    0.9s finished\n"
     ]
    },
    {
     "name": "stdout",
     "output_type": "stream",
     "text": [
      "{'select__k': 16, 'impute__strategy': 'mean', 'decisiontree__min_samples_split': 8, 'decisiontree__max_depth': 6.0, 'decisiontree__criterion': 'mae'}\n",
      "362.2832950949367\n",
      "366.14766015200865\n"
     ]
    }
   ],
   "source": [
    "reg_grid = reg_grid.fit(X_train, y_train)\n",
    "\n",
    "# The tuned method can be used for making predictions, just as any fit machine learning method\n",
    "y_test_pred = reg_grid.predict(X_test)\n",
    "\n",
    "MAE.iloc[5,1] = metrics.mean_absolute_error(y_test, y_test_pred)  \n",
    "\n",
    "print(reg_grid.best_params_) # Best parameters identified with Randomised Search \n",
    "print(- reg_grid.best_score_) # Trainning MAE\n",
    "print(MAE.iloc[5,1]) # Testing MAEreg_grid.fit(X_train, y_train)"
   ]
  },
  {
   "cell_type": "markdown",
   "metadata": {},
   "source": [
    "A MAE of 366 is obtained on the testing set which is significantly better than 469 obtained with no tuning."
   ]
  },
  {
   "cell_type": "markdown",
   "metadata": {},
   "source": [
    "It can be seen that the optimal MAE is 341, with a tie between both tuned KNN and SVM."
   ]
  },
  {
   "cell_type": "markdown",
   "metadata": {},
   "source": [
    "# Atribute selection using KNN"
   ]
  },
  {
   "cell_type": "markdown",
   "metadata": {},
   "source": [
    "Throughout all this section, the impute strategy median and the weighted distance will be used for knn, since they were the best approaches found in the previous section. First, we will only use feature selection. Let's define the pipeline:"
   ]
  },
  {
   "cell_type": "code",
   "execution_count": 245,
   "metadata": {},
   "outputs": [],
   "source": [
    "# Standardisation \n",
    "MinMax = sklearn.preprocessing.MinMaxScaler() # SVMs assume that the data it works with is in a standard range\n",
    "\n",
    "# NAs Action \n",
    "imputer = sklearn.impute.SimpleImputer(strategy = 'median')\n",
    "\n",
    "# Feature selection \n",
    "selector = sklearn.feature_selection.SelectKBest() # Select the most important 3 \n",
    "\n",
    "# Classificator \n",
    "knn = KNeighborsRegressor(weights='distance')\n",
    "\n",
    "# Building the pipeline \n",
    "reg = Pipeline([\n",
    "('minmax', MinMax), \n",
    "('impute', imputer),\n",
    "('select', selector),\n",
    "('knn_regression', knn)])"
   ]
  },
  {
   "cell_type": "markdown",
   "metadata": {},
   "source": [
    "And the hyperparameter search space to tune. In this case, the number of features to select (from 1 atribute to 550 in total) and the number of neighbours for knn."
   ]
  },
  {
   "cell_type": "code",
   "execution_count": 246,
   "metadata": {},
   "outputs": [],
   "source": [
    "# Defining hyper-parameter (serach) space\n",
    "param_grid = {\n",
    "'select__k':  range(1,550),\n",
    "'knn_regression__n_neighbors': range(1,12) \n",
    "} "
   ]
  },
  {
   "cell_type": "markdown",
   "metadata": {},
   "source": [
    "Now we proceed define the hyperparamter tuning method, which is again randomized search cross validation faster in this case with very large range of k (1:550) but with more iterations."
   ]
  },
  {
   "cell_type": "code",
   "execution_count": 247,
   "metadata": {},
   "outputs": [],
   "source": [
    "# Defining Search Method, evaluation method and performance measure\n",
    "fs1 = RandomizedSearchCV(reg, param_grid, scoring = 'neg_mean_absolute_error', n_iter = 50, \n",
    "                              cv = tr_val_partition, n_jobs = 7, verbose = 1, random_state = 0)"
   ]
  },
  {
   "cell_type": "markdown",
   "metadata": {},
   "source": [
    "Finally, we fit the model, predict and check its score and its result on the testing set."
   ]
  },
  {
   "cell_type": "code",
   "execution_count": 248,
   "metadata": {},
   "outputs": [
    {
     "name": "stdout",
     "output_type": "stream",
     "text": [
      "Fitting 1 folds for each of 50 candidates, totalling 50 fits\n"
     ]
    },
    {
     "name": "stderr",
     "output_type": "stream",
     "text": [
      "[Parallel(n_jobs=7)]: Using backend LokyBackend with 7 concurrent workers.\n",
      "[Parallel(n_jobs=7)]: Done  36 tasks      | elapsed:   13.8s\n",
      "[Parallel(n_jobs=7)]: Done  50 out of  50 | elapsed:   18.7s finished\n"
     ]
    },
    {
     "name": "stdout",
     "output_type": "stream",
     "text": [
      "{'select__k': 132, 'knn_regression__n_neighbors': 10}\n",
      "300.3642248680189\n"
     ]
    }
   ],
   "source": [
    "fs1 = fs1.fit(X_train, y_train)\n",
    "\n",
    "# The tuned method can be used for making predictions, just as any fit machine learning method\n",
    "y_test_pred = fs1.predict(X_test)\n",
    "MAE.iloc[6,1] = metrics.mean_absolute_error(y_test, y_test_pred)\n",
    "print(fs1.best_params_)\n",
    "print(MAE.iloc[6,1])"
   ]
  },
  {
   "cell_type": "markdown",
   "metadata": {},
   "source": [
    "We can see that the optimal values are 132 features with 10 neighbors, leading to a MAE of 300 when evaluated on the testing set. We will look at the features selected by this model afterwards."
   ]
  },
  {
   "cell_type": "markdown",
   "metadata": {},
   "source": [
    "Now it's time to fit a knn with PCA selection. Again, we define the pipeline:"
   ]
  },
  {
   "cell_type": "code",
   "execution_count": 249,
   "metadata": {},
   "outputs": [],
   "source": [
    "# Standardisation \n",
    "MinMax = sklearn.preprocessing.MinMaxScaler() # SVMs assume that the data it works with is in a standard range\n",
    "\n",
    "# NAs Action \n",
    "imputer = sklearn.impute.SimpleImputer(strategy='median')\n",
    "\n",
    "# Classificator \n",
    "knn = KNeighborsRegressor(weights='distance')\n",
    "\n",
    "# Attribute tranformation with PCA \n",
    "from sklearn.decomposition import PCA\n",
    "pca = PCA()\n",
    "\n",
    "# Building the pipeline \n",
    "reg = Pipeline([\n",
    "('minmax', MinMax), \n",
    "('impute', imputer),\n",
    "(\"pca\", pca), \n",
    "('knn_regression', knn)])"
   ]
  },
  {
   "cell_type": "markdown",
   "metadata": {},
   "source": [
    "The hyperparameter search space for 1 to 12 neighbors and 1 to 6 PC."
   ]
  },
  {
   "cell_type": "code",
   "execution_count": 250,
   "metadata": {},
   "outputs": [],
   "source": [
    "\n",
    "# Defining hyper-parameter (serach) space\n",
    "from sklearn.model_selection import GridSearchCV\n",
    "from sklearn.model_selection import PredefinedSplit\n",
    "\n",
    "param_grid = {\n",
    "'pca__n_components':  range(1,6),\n",
    "'knn_regression__n_neighbors': range(1,12)\n",
    "} "
   ]
  },
  {
   "cell_type": "markdown",
   "metadata": {},
   "source": [
    "And the cross validation with grid search"
   ]
  },
  {
   "cell_type": "code",
   "execution_count": 251,
   "metadata": {},
   "outputs": [],
   "source": [
    "# Defining Search Method, evaluation method and performance measure\n",
    "fs2 = GridSearchCV(reg, param_grid, scoring='neg_mean_absolute_error', cv=tr_val_partition , n_jobs=7, verbose=1) "
   ]
  },
  {
   "cell_type": "markdown",
   "metadata": {},
   "source": [
    "Finally, we fit the model and check its optimal hyperparameters as well as making predictions and checking its score"
   ]
  },
  {
   "cell_type": "code",
   "execution_count": 252,
   "metadata": {},
   "outputs": [
    {
     "name": "stdout",
     "output_type": "stream",
     "text": [
      "Fitting 1 folds for each of 55 candidates, totalling 55 fits\n"
     ]
    },
    {
     "name": "stderr",
     "output_type": "stream",
     "text": [
      "[Parallel(n_jobs=7)]: Using backend LokyBackend with 7 concurrent workers.\n",
      "[Parallel(n_jobs=7)]: Done  36 tasks      | elapsed:    2.8s\n",
      "[Parallel(n_jobs=7)]: Done  55 out of  55 | elapsed:    4.1s finished\n"
     ]
    },
    {
     "name": "stdout",
     "output_type": "stream",
     "text": [
      "{'knn_regression__n_neighbors': 10, 'pca__n_components': 5}\n",
      "342.71773838653195\n"
     ]
    }
   ],
   "source": [
    "#train\n",
    "fs2 = fs2.fit(X_train, y_train)\n",
    "\n",
    "# The tuned method can be used for making predictions\n",
    "y_test_pred = fs2.predict(X_test)\n",
    "\n",
    "\n",
    "#check scores in training\n",
    "print(fs2.best_params_)\n",
    "\n",
    "#check scores in testing\n",
    "MAE.iloc[7,1] = metrics.mean_absolute_error(y_test, y_test_pred)\n",
    "print(MAE.iloc[7,1])"
   ]
  },
  {
   "cell_type": "markdown",
   "metadata": {},
   "source": [
    "The optimal model is one with 10 neighbors and 5 PC that has a MAE of 343 when evaluated on the testing set."
   ]
  },
  {
   "cell_type": "markdown",
   "metadata": {},
   "source": [
    "Finally, we perform both feature selection and PCA. To reduce computational costs, we reduce the hyperparameter space search to values close to those of the solutions above. First we define the pipeline combining the feature selection and PCA"
   ]
  },
  {
   "cell_type": "code",
   "execution_count": 253,
   "metadata": {},
   "outputs": [],
   "source": [
    "# Standardisation \n",
    "MinMax = sklearn.preprocessing.MinMaxScaler() # SVMs assume that the data it works with is in a standard range\n",
    "\n",
    "# NAs Action \n",
    "imputer = sklearn.impute.SimpleImputer(strategy='median')\n",
    "\n",
    "# Feature selection \n",
    "selector = sklearn.feature_selection.SelectKBest() # Select the most important 3 \n",
    "# Classificator \n",
    "knn = KNeighborsRegressor(weights='distance')\n",
    "\n",
    "# Attribute tranformation with PCA \n",
    "from sklearn.decomposition import PCA\n",
    "pca = PCA()\n",
    "\n",
    "# Feature Union \n",
    "combined_features = FeatureUnion([(\"pca\", pca),\n",
    "(\"select\", selector)])\n",
    "\n",
    "# Building the pipeline \n",
    "reg = Pipeline([\n",
    "('minmax', MinMax), \n",
    "('impute', imputer),\n",
    "(\"features\", combined_features), \n",
    "('knn_regression', knn)])"
   ]
  },
  {
   "cell_type": "markdown",
   "metadata": {},
   "source": [
    "Now we define the hyperparameter search space which includes number of neighbours, number of PCA components and number of features selected."
   ]
  },
  {
   "cell_type": "code",
   "execution_count": 254,
   "metadata": {},
   "outputs": [],
   "source": [
    "# Defining hyper-parameter (serach) space\n",
    "\n",
    "param_grid = {\n",
    "'features__select__k':  range(100,180),\n",
    "'features__pca__n_components':  range(1,6),\n",
    "'knn_regression__n_neighbors': range(6,12)\n",
    "} "
   ]
  },
  {
   "cell_type": "markdown",
   "metadata": {},
   "source": [
    "Define the cross validation grid, this time using grid search to check all the options."
   ]
  },
  {
   "cell_type": "code",
   "execution_count": 255,
   "metadata": {},
   "outputs": [],
   "source": [
    "# Defining Search Method, evaluation method and performance measure\n",
    "\n",
    "reg_grid = GridSearchCV(reg, param_grid, scoring = 'neg_mean_absolute_error', cv = tr_val_partition , n_jobs = 7, verbose = 1) "
   ]
  },
  {
   "cell_type": "markdown",
   "metadata": {},
   "source": [
    "And finally fit the model on the traning set and check the predictions on the testing dataset."
   ]
  },
  {
   "cell_type": "code",
   "execution_count": 256,
   "metadata": {},
   "outputs": [
    {
     "name": "stdout",
     "output_type": "stream",
     "text": [
      "Fitting 1 folds for each of 2400 candidates, totalling 2400 fits\n"
     ]
    },
    {
     "name": "stderr",
     "output_type": "stream",
     "text": [
      "[Parallel(n_jobs=7)]: Using backend LokyBackend with 7 concurrent workers.\n",
      "[Parallel(n_jobs=7)]: Done  36 tasks      | elapsed:    5.4s\n",
      "[Parallel(n_jobs=7)]: Done 186 tasks      | elapsed:   25.4s\n",
      "[Parallel(n_jobs=7)]: Done 436 tasks      | elapsed:  1.0min\n",
      "[Parallel(n_jobs=7)]: Done 786 tasks      | elapsed:  1.8min\n",
      "[Parallel(n_jobs=7)]: Done 1236 tasks      | elapsed:  2.9min\n",
      "[Parallel(n_jobs=7)]: Done 1786 tasks      | elapsed:  4.3min\n",
      "[Parallel(n_jobs=7)]: Done 2400 out of 2400 | elapsed:  6.0min finished\n"
     ]
    },
    {
     "name": "stdout",
     "output_type": "stream",
     "text": [
      "{'features__pca__n_components': 1, 'features__select__k': 179, 'knn_regression__n_neighbors': 10}\n",
      "322.42267193681016\n"
     ]
    }
   ],
   "source": [
    "reg_grid = reg_grid.fit(X_train, y_train)\n",
    "\n",
    "# The tuned method can be used for making predictions, just as any fit machine learning method\n",
    "y_test_pred = reg_grid.predict(X_test)\n",
    "\n",
    "print(reg_grid.best_params_)\n",
    "\n",
    "#check scores in testing\n",
    "MAE.iloc[8,1] = metrics.mean_absolute_error(y_test, y_test_pred)\n",
    "print(MAE.iloc[8,1])"
   ]
  },
  {
   "cell_type": "markdown",
   "metadata": {},
   "source": [
    "We get a MAE of 322 on the testing set, which is actually worse than knn with just feature selection but better than knn with just PCA. Also, knn with feature selection (MAE=300) is the best model of all, better than SVM and KNN from previous section that had MAE=341."
   ]
  },
  {
   "cell_type": "markdown",
   "metadata": {},
   "source": [
    "# Discussion and Conclusions\n",
    "\n",
    "\n",
    "## Performance \n",
    "\n",
    "The best model turned out to be knn with feature selection with 132 features and 10 neighbors, with a MAE of 300. The performance of the models in order of appearance in the project is summarized in the following plot where we can see the winner knn followed by the mixed PCA and KNN from section 3 and tuned SVM and KNN from section 1 both tied with KNN with PCA from section 3. Finally, trees turned out to be the worst models of all, followed by default KNN, SVM and trees, in that order.\n",
    "\n",
    "\n",
    "\n",
    "\n",
    "\n",
    "\n",
    "\n",
    "\n"
   ]
  },
  {
   "cell_type": "code",
   "execution_count": 267,
   "metadata": {},
   "outputs": [
    {
     "data": {
      "image/png": "[encoded data removed]",
      "text/plain": [
       "<Figure size 432x288 with 1 Axes>"
      ]
     },
     "metadata": {
      "needs_background": "light"
     },
     "output_type": "display_data"
    }
   ],
   "source": [
    "import seaborn as sns\n",
    "import matplotlib.pyplot as plt\n",
    "plt.plot( 'model', 'MAE', data=MAE, linestyle='-', marker='o', color = 'Black')\n",
    "\n",
    "# Custom Axis title\n",
    "plt.title(\"Performance Evaluation\", loc = 'left')\n",
    "plt.xlabel('Models used (By Application order)', color = 'Black', fontsize='12', horizontalalignment='center')\n",
    "plt.ylabel('MAE on the testing set', color = 'Black', fontsize='12', horizontalalignment='center')\n",
    "plt.show()\n"
   ]
  },
  {
   "cell_type": "markdown",
   "metadata": {},
   "source": [
    "## Insight\n",
    "\n",
    "The importance is not as simple as seeing the features selected. Features are potentially correlated between each other, meaning they contain overlapping information. This unfolds so that a model with a variable A, adding B might be more relevant that adding C, but if D is correlated with B and was also in the initial model with A, then it would be more relevant to add C. This is often called colineality (although in ML/Non-parametric modelling we do not care about whether the inter-relation is linear), and is something that can't be overlooked in many contextes. \n",
    "\n",
    "This does not mean looking at the frequency of selection of some variables used is no longer valid. In this particular case, we might be facing a sitatuation that because some wind farms conditions are very related, models tend to select a section of them to make predictions. \n",
    "\n",
    "We have particularly found out that only 5 different attributes out of the 22 total are considered important: p59.162 (surface pressure), , u10n (10 metre U wind component), iews (Instantaneous eastward turbulent surface stress), inss (Instantaneous northward turbulent surface) and u100 (100 metre U wind component) and for very particular locations, positions 24 and 25: cape (Convective available potential energy), lai_hv (Leaf area index, high vegetation), flsr (Forecast logarithm of surface roughness for heat), stl1(Soil temperature level 1). Probably this is due to the fact that these two places present special characteristics compared to the others, in particular, in these 4 variables. The physical interpretation of how these or any variable might contribute to energy generation is, however, beyond our reach since we are not technical experts on the matter.\n",
    "\n",
    "\n"
   ]
  },
  {
   "cell_type": "code",
   "execution_count": 270,
   "metadata": {},
   "outputs": [
    {
     "data": {
      "text/plain": [
       "Index(['cape.24', 'cape.25', 'p59.162.1', 'p59.162.2', 'p59.162.3',\n",
       "       'p59.162.4', 'p59.162.5', 'p59.162.6', 'p59.162.7', 'p59.162.8',\n",
       "       'p59.162.9', 'p59.162.10', 'p59.162.11', 'p59.162.12', 'p59.162.13',\n",
       "       'p59.162.14', 'p59.162.15', 'p59.162.16', 'p59.162.17', 'p59.162.18',\n",
       "       'p59.162.19', 'p59.162.20', 'p59.162.21', 'p59.162.22', 'p59.162.23',\n",
       "       'lai_hv.24', 'lai_hv.25', 'u10n.1', 'u10n.4', 'u10n.5', 'u10n.6',\n",
       "       'u10n.9', 'u10n.10', 'u10n.11', 'u10n.14', 'u10n.15', 'u10n.19',\n",
       "       'u10n.20', 'u10n.21', 'stl1.24', 'u10.1', 'u10.4', 'u10.5', 'u10.6',\n",
       "       'u10.7', 'u10.8', 'u10.9', 'u10.10', 'u10.11', 'u10.12', 'u10.14',\n",
       "       'u10.15', 'u10.16', 'u10.19', 'u10.20', 'u10.21', 'u10.22', 'stl3.24',\n",
       "       'stl3.25', 'iews.1', 'iews.2', 'iews.3', 'iews.4', 'iews.5', 'iews.6',\n",
       "       'iews.7', 'iews.8', 'iews.9', 'iews.10', 'iews.11', 'iews.12',\n",
       "       'iews.13', 'iews.14', 'iews.15', 'iews.16', 'iews.17', 'iews.18',\n",
       "       'iews.19', 'iews.20', 'iews.21', 'iews.22', 'iews.23', 'iews.24',\n",
       "       'iews.25', 'inss.1', 'inss.2', 'inss.3', 'inss.4', 'inss.5', 'inss.6',\n",
       "       'inss.7', 'inss.8', 'inss.9', 'inss.10', 'inss.11', 'inss.12',\n",
       "       'inss.13', 'inss.14', 'inss.15', 'inss.16'],\n",
       "      dtype='object')"
      ]
     },
     "execution_count": 270,
     "metadata": {},
     "output_type": "execute_result"
    }
   ],
   "source": [
    "features_model_s1[0:100] # First 100 items in the features object"
   ]
  },
  {
   "cell_type": "code",
   "execution_count": 271,
   "metadata": {},
   "outputs": [
    {
     "data": {
      "text/plain": [
       "Index(['inss.17', 'inss.18', 'inss.19', 'inss.20', 'inss.21', 'inss.22',\n",
       "       'inss.23', 'flsr.24', 'flsr.25', 'u100.1', 'u100.2', 'u100.3', 'u100.4',\n",
       "       'u100.5', 'u100.6', 'u100.7', 'u100.8', 'u100.9', 'u100.10', 'u100.11',\n",
       "       'u100.12', 'u100.13', 'u100.14', 'u100.15', 'u100.16', 'u100.17',\n",
       "       'u100.18', 'u100.19', 'u100.20', 'u100.21', 'u100.22', 'u100.23'],\n",
       "      dtype='object')"
      ]
     },
     "execution_count": 271,
     "metadata": {},
     "output_type": "execute_result"
    }
   ],
   "source": [
    "features_model_s1[100:132] # Rest of the items in the features object"
   ]
  },
  {
   "cell_type": "markdown",
   "metadata": {},
   "source": [
    "Finally, the following code extracts the importance of each location by counting how many variables at that location contribute to the model."
   ]
  },
  {
   "cell_type": "code",
   "execution_count": 264,
   "metadata": {},
   "outputs": [],
   "source": [
    "# This part runs the First model of the second section with the optimal parameters, so that it's possible \n",
    "# to access all the names of the features selected. \n",
    "\n",
    "# This is based on the best parameters in the first model (Of this, the last, section)\n",
    "selector = sklearn.feature_selection.SelectKBest(k = 132) \n",
    "\n",
    "knn = KNeighborsRegressor(n_neighbors = 10,\n",
    "                         weights = 'distance')\n",
    "reg = Pipeline([\n",
    "('minmax', MinMax), \n",
    "('impute', imputer),\n",
    "('select', selector),\n",
    "('knn_regression', knn)])\n",
    "\n",
    "fs11 = reg.fit(X_train, y_train)\n",
    "\n",
    "y_test_pred = fs11.predict(X_test)\n",
    "\n",
    "features_model_s1 = data.iloc[:,\n",
    "                            reg[\"select\"].get_support(indices = True)].columns"
   ]
  },
  {
   "cell_type": "code",
   "execution_count": 265,
   "metadata": {},
   "outputs": [],
   "source": [
    "rep = features_model_s1.shape[0]\n",
    "names = range(0,26)\n",
    "farm = np.linspace(0, 24, 25) * 0\n",
    "for i in range(0,rep): \n",
    "    a = str(features_model_s1[i]) + \"end_check\"\n",
    "    for j in range(0, 26):\n",
    "        farm[j-1] = str.count(a, \".\" + str(names[j]) + \"end_check\") + farm[j-1]\n",
    "#farm"
   ]
  },
  {
   "cell_type": "code",
   "execution_count": 260,
   "metadata": {},
   "outputs": [
    {
     "data": {
      "image/png": "[encoded data removed]",
      "text/plain": [
       "<Figure size 432x288 with 1 Axes>"
      ]
     },
     "metadata": {
      "needs_background": "light"
     },
     "output_type": "display_data"
    }
   ],
   "source": [
    "import matplotlib.pyplot as plt\n",
    "\n",
    "y_pos = np.arange(25) + 1\n",
    "x = np.array(farm)\n",
    "plt.bar(y_pos, x, color = 'grey')\n",
    "\n",
    "plt.title(\"Frequency of the farms used in the model\", loc = 'left')\n",
    "plt.xlabel('Farm by name', color = 'Black', fontsize = '12', horizontalalignment = 'center')\n",
    "plt.ylabel('Count', color = 'Black', fontsize = '12', horizontalalignment = 'center')\n",
    "plt.show()"
   ]
  },
  {
   "cell_type": "markdown",
   "metadata": {},
   "source": [
    "We can see that all the farms contribute more or less equally. In fact, Sotavento (number 13) only contributes with 4 variables, tied in the least contributors with some other locations."
   ]
  }
 ],
 "metadata": {
  "kernelspec": {
   "display_name": "Python 3",
   "language": "python",
   "name": "python3"
  },
  "language_info": {
   "codemirror_mode": {
    "name": "ipython",
    "version": 3
   },
   "file_extension": ".py",
   "mimetype": "text/x-python",
   "name": "python",
   "nbconvert_exporter": "python",
   "pygments_lexer": "ipython3",
   "version": "3.8.3"
  }
 },
 "nbformat": 4,
 "nbformat_minor": 4
}
